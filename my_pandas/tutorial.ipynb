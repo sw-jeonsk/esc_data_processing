{
 "cells": [
  {
   "cell_type": "code",
   "id": "initial_id",
   "metadata": {
    "collapsed": true,
    "ExecuteTime": {
     "end_time": "2024-05-31T08:18:29.563385Z",
     "start_time": "2024-05-31T08:18:29.560531Z"
    }
   },
   "source": [
    "import pandas as pd\n",
    "\n",
    "# 기본 데이터 작성\n",
    "df = pd.DataFrame({\n",
    "    'Name': [\n",
    "        '전서규',\n",
    "        '홍길동',\n",
    "        '김철수',\n",
    "        '김영희'\n",
    "    ],\n",
    "    'Age': [\n",
    "        20,\n",
    "        30,\n",
    "        40,\n",
    "        25,\n",
    "    ],\n",
    "    'Gender': [\n",
    "        'M',\n",
    "        'M',\n",
    "        'M',\n",
    "        'F'\n",
    "    ],\n",
    "    'Salary': [\n",
    "        4000,\n",
    "        5000,\n",
    "        3000,\n",
    "        2000\n",
    "    ]\n",
    "})\n",
    "\n"
   ],
   "outputs": [],
   "execution_count": 19
  },
  {
   "metadata": {
    "ExecuteTime": {
     "end_time": "2024-05-31T07:56:35.321226Z",
     "start_time": "2024-05-31T07:56:35.316518Z"
    }
   },
   "cell_type": "code",
   "source": [
    "df['Age'].max() # 최대값 구하기\n",
    "df.describe()"
   ],
   "id": "d5d3977ed52d67e2",
   "outputs": [
    {
     "data": {
      "text/plain": [
       "             Age\n",
       "count   4.000000\n",
       "mean   28.750000\n",
       "std     8.539126\n",
       "min    20.000000\n",
       "25%    23.750000\n",
       "50%    27.500000\n",
       "75%    32.500000\n",
       "max    40.000000"
      ],
      "text/html": [
       "<div>\n",
       "<style scoped>\n",
       "    .dataframe tbody tr th:only-of-type {\n",
       "        vertical-align: middle;\n",
       "    }\n",
       "\n",
       "    .dataframe tbody tr th {\n",
       "        vertical-align: top;\n",
       "    }\n",
       "\n",
       "    .dataframe thead th {\n",
       "        text-align: right;\n",
       "    }\n",
       "</style>\n",
       "<table border=\"1\" class=\"dataframe\">\n",
       "  <thead>\n",
       "    <tr style=\"text-align: right;\">\n",
       "      <th></th>\n",
       "      <th>Age</th>\n",
       "    </tr>\n",
       "  </thead>\n",
       "  <tbody>\n",
       "    <tr>\n",
       "      <th>count</th>\n",
       "      <td>4.000000</td>\n",
       "    </tr>\n",
       "    <tr>\n",
       "      <th>mean</th>\n",
       "      <td>28.750000</td>\n",
       "    </tr>\n",
       "    <tr>\n",
       "      <th>std</th>\n",
       "      <td>8.539126</td>\n",
       "    </tr>\n",
       "    <tr>\n",
       "      <th>min</th>\n",
       "      <td>20.000000</td>\n",
       "    </tr>\n",
       "    <tr>\n",
       "      <th>25%</th>\n",
       "      <td>23.750000</td>\n",
       "    </tr>\n",
       "    <tr>\n",
       "      <th>50%</th>\n",
       "      <td>27.500000</td>\n",
       "    </tr>\n",
       "    <tr>\n",
       "      <th>75%</th>\n",
       "      <td>32.500000</td>\n",
       "    </tr>\n",
       "    <tr>\n",
       "      <th>max</th>\n",
       "      <td>40.000000</td>\n",
       "    </tr>\n",
       "  </tbody>\n",
       "</table>\n",
       "</div>"
      ]
     },
     "execution_count": 8,
     "metadata": {},
     "output_type": "execute_result"
    }
   ],
   "execution_count": 8
  },
  {
   "metadata": {
    "ExecuteTime": {
     "end_time": "2024-05-31T07:55:00.073689Z",
     "start_time": "2024-05-31T07:55:00.069309Z"
    }
   },
   "cell_type": "code",
   "source": [
    "# Series\n",
    "# A pandas Series has no column labels, as it is just a single column of a DataFrame. A Series does have row labels.\n",
    "number = pd.Series([1, 2, 3, 4], name='Number')\n",
    "number.max() # 최대값 구하기\n",
    "number['Number'] # 실행안됨 X 컬럼이 없음"
   ],
   "id": "3d9709432b99e05b",
   "outputs": [
    {
     "data": {
      "text/plain": [
       "0    1\n",
       "1    2\n",
       "2    3\n",
       "3    4\n",
       "Name: Number, dtype: int64"
      ]
     },
     "execution_count": 4,
     "metadata": {},
     "output_type": "execute_result"
    }
   ],
   "execution_count": 4
  },
  {
   "metadata": {
    "ExecuteTime": {
     "end_time": "2024-05-31T08:18:42.030414Z",
     "start_time": "2024-05-31T08:18:42.025554Z"
    }
   },
   "cell_type": "code",
   "source": [
    "# 각 세대별 연봉을 구하세요.\n",
    "\n",
    "def age_categorize(age):\n",
    "    age = (age // 10) * 10\n",
    "    return age \n",
    "age_category = df['Age'].apply(age_categorize)\n",
    "age_category.astype('category')\n",
    "\n",
    "df.insert(2, 'AgeCategory', age_category)\n",
    "\n",
    "df.groupby(['AgeCategory'])['Salary'].agg(['sum', 'mean'])\n"
   ],
   "id": "2c5e43eaf25c3f9a",
   "outputs": [
    {
     "data": {
      "text/plain": [
       "             AgeCategory\n",
       "AgeCategory             \n",
       "20                     2\n",
       "30                     1\n",
       "40                     1"
      ],
      "text/html": [
       "<div>\n",
       "<style scoped>\n",
       "    .dataframe tbody tr th:only-of-type {\n",
       "        vertical-align: middle;\n",
       "    }\n",
       "\n",
       "    .dataframe tbody tr th {\n",
       "        vertical-align: top;\n",
       "    }\n",
       "\n",
       "    .dataframe thead th {\n",
       "        text-align: right;\n",
       "    }\n",
       "</style>\n",
       "<table border=\"1\" class=\"dataframe\">\n",
       "  <thead>\n",
       "    <tr style=\"text-align: right;\">\n",
       "      <th></th>\n",
       "      <th>AgeCategory</th>\n",
       "    </tr>\n",
       "    <tr>\n",
       "      <th>AgeCategory</th>\n",
       "      <th></th>\n",
       "    </tr>\n",
       "  </thead>\n",
       "  <tbody>\n",
       "    <tr>\n",
       "      <th>20</th>\n",
       "      <td>2</td>\n",
       "    </tr>\n",
       "    <tr>\n",
       "      <th>30</th>\n",
       "      <td>1</td>\n",
       "    </tr>\n",
       "    <tr>\n",
       "      <th>40</th>\n",
       "      <td>1</td>\n",
       "    </tr>\n",
       "  </tbody>\n",
       "</table>\n",
       "</div>"
      ]
     },
     "execution_count": 20,
     "metadata": {},
     "output_type": "execute_result"
    }
   ],
   "execution_count": 20
  }
 ],
 "metadata": {
  "kernelspec": {
   "display_name": "Python 3",
   "language": "python",
   "name": "python3"
  },
  "language_info": {
   "codemirror_mode": {
    "name": "ipython",
    "version": 2
   },
   "file_extension": ".py",
   "mimetype": "text/x-python",
   "name": "python",
   "nbconvert_exporter": "python",
   "pygments_lexer": "ipython2",
   "version": "2.7.6"
  }
 },
 "nbformat": 4,
 "nbformat_minor": 5
}
